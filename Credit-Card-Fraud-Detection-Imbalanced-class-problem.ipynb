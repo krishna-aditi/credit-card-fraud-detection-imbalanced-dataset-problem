{
 "cells": [
  {
   "cell_type": "markdown",
   "id": "bdefe4cf",
   "metadata": {
    "id": "bdefe4cf"
   },
   "source": [
    "## Credit Card Fraud Detection - Dealing with Imbalanced Classes in Data"
   ]
  },
  {
   "cell_type": "markdown",
   "id": "00361aa3",
   "metadata": {
    "id": "00361aa3"
   },
   "source": [
    "[Reference ](https://towardsdatascience.com/methods-for-dealing-with-imbalanced-data-5b761be45a18)\n",
    "\n",
    "- Imbalanced classes are a common problem in classification due to disproportionate ratio of observations in *each class*\n",
    "- `Class imbalance` can be found in many different areas including medical diagnosis, spam filtering, and fraud detection\n",
    "- Most machine learning algorithms work best when the number of samples in each class are about equal\n",
    "    - This is because most algorithms are designed to maximize accuracy and reduce error\n",
    "    \n",
    "In this problem we look at **5 ways to handle imbalanced class problem using Credit Card Data**. \n",
    "\n",
    "**Objective:** To correctly classify the minority class of fraudulent transactions."
   ]
  },
  {
   "cell_type": "code",
   "execution_count": 1,
   "id": "341c43c5",
   "metadata": {
    "id": "341c43c5"
   },
   "outputs": [],
   "source": [
    "import numpy as np\n",
    "import pandas as pd\n",
    "import seaborn as sns\n",
    "import matplotlib.pyplot as plt\n",
    "%matplotlib inline\n",
    "\n",
    "# Runtime Configuration Parameters for Matplotlib\n",
    "plt.rcParams['font.family'] = 'Verdana'\n",
    "plt.style.use('ggplot')\n",
    "\n",
    "import warnings\n",
    "warnings.filterwarnings(\"ignore\", category=FutureWarning)"
   ]
  },
  {
   "cell_type": "code",
   "execution_count": 3,
   "id": "hitNMfQnx-Mg",
   "metadata": {
    "colab": {
     "base_uri": "https://localhost:8080/"
    },
    "id": "hitNMfQnx-Mg",
    "outputId": "371bd608-8393-4f30-8081-94fe269fd195"
   },
   "outputs": [
    {
     "name": "stdout",
     "output_type": "stream",
     "text": [
      "Mounted at /content/drive\n"
     ]
    }
   ],
   "source": [
    "from google.colab import drive\n",
    "drive.mount('/content/drive')"
   ]
  },
  {
   "cell_type": "code",
   "execution_count": 5,
   "id": "yj2nd1pPyFP9",
   "metadata": {
    "colab": {
     "base_uri": "https://localhost:8080/"
    },
    "id": "yj2nd1pPyFP9",
    "outputId": "99da4e40-2210-494d-c76c-09aee83a260c"
   },
   "outputs": [
    {
     "name": "stdout",
     "output_type": "stream",
     "text": [
      "/content/drive\n"
     ]
    }
   ],
   "source": [
    "cd drive/"
   ]
  },
  {
   "cell_type": "code",
   "execution_count": 7,
   "id": "kWUy6dNcyMI3",
   "metadata": {
    "colab": {
     "base_uri": "https://localhost:8080/"
    },
    "id": "kWUy6dNcyMI3",
    "outputId": "20138d07-6958-4ed5-e55b-70e307b3eb5e"
   },
   "outputs": [
    {
     "name": "stdout",
     "output_type": "stream",
     "text": [
      "/content/drive/MyDrive/credit-card-fraud-detection\n"
     ]
    }
   ],
   "source": [
    "cd MyDrive/credit-card-fraud-detection/"
   ]
  },
  {
   "cell_type": "code",
   "execution_count": 8,
   "id": "d888c29d",
   "metadata": {
    "colab": {
     "base_uri": "https://localhost:8080/",
     "height": 299
    },
    "id": "d888c29d",
    "outputId": "b3255971-9b74-4149-d598-0da72d7e813a"
   },
   "outputs": [
    {
     "data": {
      "text/html": [
       "\n",
       "  <div id=\"df-79141a87-c3c5-4db1-b228-14d5d2dadc2a\">\n",
       "    <div class=\"colab-df-container\">\n",
       "      <div>\n",
       "<style scoped>\n",
       "    .dataframe tbody tr th:only-of-type {\n",
       "        vertical-align: middle;\n",
       "    }\n",
       "\n",
       "    .dataframe tbody tr th {\n",
       "        vertical-align: top;\n",
       "    }\n",
       "\n",
       "    .dataframe thead th {\n",
       "        text-align: right;\n",
       "    }\n",
       "</style>\n",
       "<table border=\"1\" class=\"dataframe\">\n",
       "  <thead>\n",
       "    <tr style=\"text-align: right;\">\n",
       "      <th></th>\n",
       "      <th>Time</th>\n",
       "      <th>V1</th>\n",
       "      <th>V2</th>\n",
       "      <th>V3</th>\n",
       "      <th>V4</th>\n",
       "      <th>V5</th>\n",
       "      <th>V6</th>\n",
       "      <th>V7</th>\n",
       "      <th>V8</th>\n",
       "      <th>V9</th>\n",
       "      <th>...</th>\n",
       "      <th>V21</th>\n",
       "      <th>V22</th>\n",
       "      <th>V23</th>\n",
       "      <th>V24</th>\n",
       "      <th>V25</th>\n",
       "      <th>V26</th>\n",
       "      <th>V27</th>\n",
       "      <th>V28</th>\n",
       "      <th>Amount</th>\n",
       "      <th>Class</th>\n",
       "    </tr>\n",
       "  </thead>\n",
       "  <tbody>\n",
       "    <tr>\n",
       "      <th>0</th>\n",
       "      <td>0.0</td>\n",
       "      <td>-1.359807</td>\n",
       "      <td>-0.072781</td>\n",
       "      <td>2.536347</td>\n",
       "      <td>1.378155</td>\n",
       "      <td>-0.338321</td>\n",
       "      <td>0.462388</td>\n",
       "      <td>0.239599</td>\n",
       "      <td>0.098698</td>\n",
       "      <td>0.363787</td>\n",
       "      <td>...</td>\n",
       "      <td>-0.018307</td>\n",
       "      <td>0.277838</td>\n",
       "      <td>-0.110474</td>\n",
       "      <td>0.066928</td>\n",
       "      <td>0.128539</td>\n",
       "      <td>-0.189115</td>\n",
       "      <td>0.133558</td>\n",
       "      <td>-0.021053</td>\n",
       "      <td>149.62</td>\n",
       "      <td>0</td>\n",
       "    </tr>\n",
       "    <tr>\n",
       "      <th>1</th>\n",
       "      <td>0.0</td>\n",
       "      <td>1.191857</td>\n",
       "      <td>0.266151</td>\n",
       "      <td>0.166480</td>\n",
       "      <td>0.448154</td>\n",
       "      <td>0.060018</td>\n",
       "      <td>-0.082361</td>\n",
       "      <td>-0.078803</td>\n",
       "      <td>0.085102</td>\n",
       "      <td>-0.255425</td>\n",
       "      <td>...</td>\n",
       "      <td>-0.225775</td>\n",
       "      <td>-0.638672</td>\n",
       "      <td>0.101288</td>\n",
       "      <td>-0.339846</td>\n",
       "      <td>0.167170</td>\n",
       "      <td>0.125895</td>\n",
       "      <td>-0.008983</td>\n",
       "      <td>0.014724</td>\n",
       "      <td>2.69</td>\n",
       "      <td>0</td>\n",
       "    </tr>\n",
       "    <tr>\n",
       "      <th>2</th>\n",
       "      <td>1.0</td>\n",
       "      <td>-1.358354</td>\n",
       "      <td>-1.340163</td>\n",
       "      <td>1.773209</td>\n",
       "      <td>0.379780</td>\n",
       "      <td>-0.503198</td>\n",
       "      <td>1.800499</td>\n",
       "      <td>0.791461</td>\n",
       "      <td>0.247676</td>\n",
       "      <td>-1.514654</td>\n",
       "      <td>...</td>\n",
       "      <td>0.247998</td>\n",
       "      <td>0.771679</td>\n",
       "      <td>0.909412</td>\n",
       "      <td>-0.689281</td>\n",
       "      <td>-0.327642</td>\n",
       "      <td>-0.139097</td>\n",
       "      <td>-0.055353</td>\n",
       "      <td>-0.059752</td>\n",
       "      <td>378.66</td>\n",
       "      <td>0</td>\n",
       "    </tr>\n",
       "    <tr>\n",
       "      <th>3</th>\n",
       "      <td>1.0</td>\n",
       "      <td>-0.966272</td>\n",
       "      <td>-0.185226</td>\n",
       "      <td>1.792993</td>\n",
       "      <td>-0.863291</td>\n",
       "      <td>-0.010309</td>\n",
       "      <td>1.247203</td>\n",
       "      <td>0.237609</td>\n",
       "      <td>0.377436</td>\n",
       "      <td>-1.387024</td>\n",
       "      <td>...</td>\n",
       "      <td>-0.108300</td>\n",
       "      <td>0.005274</td>\n",
       "      <td>-0.190321</td>\n",
       "      <td>-1.175575</td>\n",
       "      <td>0.647376</td>\n",
       "      <td>-0.221929</td>\n",
       "      <td>0.062723</td>\n",
       "      <td>0.061458</td>\n",
       "      <td>123.50</td>\n",
       "      <td>0</td>\n",
       "    </tr>\n",
       "    <tr>\n",
       "      <th>4</th>\n",
       "      <td>2.0</td>\n",
       "      <td>-1.158233</td>\n",
       "      <td>0.877737</td>\n",
       "      <td>1.548718</td>\n",
       "      <td>0.403034</td>\n",
       "      <td>-0.407193</td>\n",
       "      <td>0.095921</td>\n",
       "      <td>0.592941</td>\n",
       "      <td>-0.270533</td>\n",
       "      <td>0.817739</td>\n",
       "      <td>...</td>\n",
       "      <td>-0.009431</td>\n",
       "      <td>0.798278</td>\n",
       "      <td>-0.137458</td>\n",
       "      <td>0.141267</td>\n",
       "      <td>-0.206010</td>\n",
       "      <td>0.502292</td>\n",
       "      <td>0.219422</td>\n",
       "      <td>0.215153</td>\n",
       "      <td>69.99</td>\n",
       "      <td>0</td>\n",
       "    </tr>\n",
       "  </tbody>\n",
       "</table>\n",
       "<p>5 rows × 31 columns</p>\n",
       "</div>\n",
       "      <button class=\"colab-df-convert\" onclick=\"convertToInteractive('df-79141a87-c3c5-4db1-b228-14d5d2dadc2a')\"\n",
       "              title=\"Convert this dataframe to an interactive table.\"\n",
       "              style=\"display:none;\">\n",
       "        \n",
       "  <svg xmlns=\"http://www.w3.org/2000/svg\" height=\"24px\"viewBox=\"0 0 24 24\"\n",
       "       width=\"24px\">\n",
       "    <path d=\"M0 0h24v24H0V0z\" fill=\"none\"/>\n",
       "    <path d=\"M18.56 5.44l.94 2.06.94-2.06 2.06-.94-2.06-.94-.94-2.06-.94 2.06-2.06.94zm-11 1L8.5 8.5l.94-2.06 2.06-.94-2.06-.94L8.5 2.5l-.94 2.06-2.06.94zm10 10l.94 2.06.94-2.06 2.06-.94-2.06-.94-.94-2.06-.94 2.06-2.06.94z\"/><path d=\"M17.41 7.96l-1.37-1.37c-.4-.4-.92-.59-1.43-.59-.52 0-1.04.2-1.43.59L10.3 9.45l-7.72 7.72c-.78.78-.78 2.05 0 2.83L4 21.41c.39.39.9.59 1.41.59.51 0 1.02-.2 1.41-.59l7.78-7.78 2.81-2.81c.8-.78.8-2.07 0-2.86zM5.41 20L4 18.59l7.72-7.72 1.47 1.35L5.41 20z\"/>\n",
       "  </svg>\n",
       "      </button>\n",
       "      \n",
       "  <style>\n",
       "    .colab-df-container {\n",
       "      display:flex;\n",
       "      flex-wrap:wrap;\n",
       "      gap: 12px;\n",
       "    }\n",
       "\n",
       "    .colab-df-convert {\n",
       "      background-color: #E8F0FE;\n",
       "      border: none;\n",
       "      border-radius: 50%;\n",
       "      cursor: pointer;\n",
       "      display: none;\n",
       "      fill: #1967D2;\n",
       "      height: 32px;\n",
       "      padding: 0 0 0 0;\n",
       "      width: 32px;\n",
       "    }\n",
       "\n",
       "    .colab-df-convert:hover {\n",
       "      background-color: #E2EBFA;\n",
       "      box-shadow: 0px 1px 2px rgba(60, 64, 67, 0.3), 0px 1px 3px 1px rgba(60, 64, 67, 0.15);\n",
       "      fill: #174EA6;\n",
       "    }\n",
       "\n",
       "    [theme=dark] .colab-df-convert {\n",
       "      background-color: #3B4455;\n",
       "      fill: #D2E3FC;\n",
       "    }\n",
       "\n",
       "    [theme=dark] .colab-df-convert:hover {\n",
       "      background-color: #434B5C;\n",
       "      box-shadow: 0px 1px 3px 1px rgba(0, 0, 0, 0.15);\n",
       "      filter: drop-shadow(0px 1px 2px rgba(0, 0, 0, 0.3));\n",
       "      fill: #FFFFFF;\n",
       "    }\n",
       "  </style>\n",
       "\n",
       "      <script>\n",
       "        const buttonEl =\n",
       "          document.querySelector('#df-79141a87-c3c5-4db1-b228-14d5d2dadc2a button.colab-df-convert');\n",
       "        buttonEl.style.display =\n",
       "          google.colab.kernel.accessAllowed ? 'block' : 'none';\n",
       "\n",
       "        async function convertToInteractive(key) {\n",
       "          const element = document.querySelector('#df-79141a87-c3c5-4db1-b228-14d5d2dadc2a');\n",
       "          const dataTable =\n",
       "            await google.colab.kernel.invokeFunction('convertToInteractive',\n",
       "                                                     [key], {});\n",
       "          if (!dataTable) return;\n",
       "\n",
       "          const docLinkHtml = 'Like what you see? Visit the ' +\n",
       "            '<a target=\"_blank\" href=https://colab.research.google.com/notebooks/data_table.ipynb>data table notebook</a>'\n",
       "            + ' to learn more about interactive tables.';\n",
       "          element.innerHTML = '';\n",
       "          dataTable['output_type'] = 'display_data';\n",
       "          await google.colab.output.renderOutput(dataTable, element);\n",
       "          const docLink = document.createElement('div');\n",
       "          docLink.innerHTML = docLinkHtml;\n",
       "          element.appendChild(docLink);\n",
       "        }\n",
       "      </script>\n",
       "    </div>\n",
       "  </div>\n",
       "  "
      ],
      "text/plain": [
       "   Time        V1        V2        V3        V4        V5        V6        V7  \\\n",
       "0   0.0 -1.359807 -0.072781  2.536347  1.378155 -0.338321  0.462388  0.239599   \n",
       "1   0.0  1.191857  0.266151  0.166480  0.448154  0.060018 -0.082361 -0.078803   \n",
       "2   1.0 -1.358354 -1.340163  1.773209  0.379780 -0.503198  1.800499  0.791461   \n",
       "3   1.0 -0.966272 -0.185226  1.792993 -0.863291 -0.010309  1.247203  0.237609   \n",
       "4   2.0 -1.158233  0.877737  1.548718  0.403034 -0.407193  0.095921  0.592941   \n",
       "\n",
       "         V8        V9  ...       V21       V22       V23       V24       V25  \\\n",
       "0  0.098698  0.363787  ... -0.018307  0.277838 -0.110474  0.066928  0.128539   \n",
       "1  0.085102 -0.255425  ... -0.225775 -0.638672  0.101288 -0.339846  0.167170   \n",
       "2  0.247676 -1.514654  ...  0.247998  0.771679  0.909412 -0.689281 -0.327642   \n",
       "3  0.377436 -1.387024  ... -0.108300  0.005274 -0.190321 -1.175575  0.647376   \n",
       "4 -0.270533  0.817739  ... -0.009431  0.798278 -0.137458  0.141267 -0.206010   \n",
       "\n",
       "        V26       V27       V28  Amount  Class  \n",
       "0 -0.189115  0.133558 -0.021053  149.62      0  \n",
       "1  0.125895 -0.008983  0.014724    2.69      0  \n",
       "2 -0.139097 -0.055353 -0.059752  378.66      0  \n",
       "3 -0.221929  0.062723  0.061458  123.50      0  \n",
       "4  0.502292  0.219422  0.215153   69.99      0  \n",
       "\n",
       "[5 rows x 31 columns]"
      ]
     },
     "execution_count": 8,
     "metadata": {},
     "output_type": "execute_result"
    }
   ],
   "source": [
    "# Read data\n",
    "credit_card_df = pd.read_csv('creditcard.csv')\n",
    "credit_card_df.head()"
   ]
  },
  {
   "cell_type": "code",
   "execution_count": 9,
   "id": "60b20a26",
   "metadata": {
    "colab": {
     "base_uri": "https://localhost:8080/"
    },
    "id": "60b20a26",
    "outputId": "a7d8cae2-f8c5-47a5-b56e-35ea00534fce"
   },
   "outputs": [
    {
     "data": {
      "text/plain": [
       "(284807, 31)"
      ]
     },
     "execution_count": 9,
     "metadata": {},
     "output_type": "execute_result"
    }
   ],
   "source": [
    "# Data types\n",
    "credit_card_df.shape"
   ]
  },
  {
   "cell_type": "code",
   "execution_count": 10,
   "id": "2adfc3eb",
   "metadata": {
    "colab": {
     "base_uri": "https://localhost:8080/",
     "height": 1000
    },
    "id": "2adfc3eb",
    "outputId": "eda5c81b-6bbc-48dc-b01b-5b84543d1146",
    "scrolled": true
   },
   "outputs": [
    {
     "data": {
      "text/html": [
       "\n",
       "  <div id=\"df-3c3f0e07-e4ec-4c2d-9cbc-306b63ff2494\">\n",
       "    <div class=\"colab-df-container\">\n",
       "      <div>\n",
       "<style scoped>\n",
       "    .dataframe tbody tr th:only-of-type {\n",
       "        vertical-align: middle;\n",
       "    }\n",
       "\n",
       "    .dataframe tbody tr th {\n",
       "        vertical-align: top;\n",
       "    }\n",
       "\n",
       "    .dataframe thead th {\n",
       "        text-align: right;\n",
       "    }\n",
       "</style>\n",
       "<table border=\"1\" class=\"dataframe\">\n",
       "  <thead>\n",
       "    <tr style=\"text-align: right;\">\n",
       "      <th></th>\n",
       "      <th>Total missing values</th>\n",
       "      <th>Percentage missing values</th>\n",
       "    </tr>\n",
       "  </thead>\n",
       "  <tbody>\n",
       "    <tr>\n",
       "      <th>Time</th>\n",
       "      <td>0</td>\n",
       "      <td>0.0</td>\n",
       "    </tr>\n",
       "    <tr>\n",
       "      <th>V28</th>\n",
       "      <td>0</td>\n",
       "      <td>0.0</td>\n",
       "    </tr>\n",
       "    <tr>\n",
       "      <th>V27</th>\n",
       "      <td>0</td>\n",
       "      <td>0.0</td>\n",
       "    </tr>\n",
       "    <tr>\n",
       "      <th>V26</th>\n",
       "      <td>0</td>\n",
       "      <td>0.0</td>\n",
       "    </tr>\n",
       "    <tr>\n",
       "      <th>V25</th>\n",
       "      <td>0</td>\n",
       "      <td>0.0</td>\n",
       "    </tr>\n",
       "    <tr>\n",
       "      <th>V24</th>\n",
       "      <td>0</td>\n",
       "      <td>0.0</td>\n",
       "    </tr>\n",
       "    <tr>\n",
       "      <th>V23</th>\n",
       "      <td>0</td>\n",
       "      <td>0.0</td>\n",
       "    </tr>\n",
       "    <tr>\n",
       "      <th>V22</th>\n",
       "      <td>0</td>\n",
       "      <td>0.0</td>\n",
       "    </tr>\n",
       "    <tr>\n",
       "      <th>V21</th>\n",
       "      <td>0</td>\n",
       "      <td>0.0</td>\n",
       "    </tr>\n",
       "    <tr>\n",
       "      <th>V20</th>\n",
       "      <td>0</td>\n",
       "      <td>0.0</td>\n",
       "    </tr>\n",
       "    <tr>\n",
       "      <th>V19</th>\n",
       "      <td>0</td>\n",
       "      <td>0.0</td>\n",
       "    </tr>\n",
       "    <tr>\n",
       "      <th>V18</th>\n",
       "      <td>0</td>\n",
       "      <td>0.0</td>\n",
       "    </tr>\n",
       "    <tr>\n",
       "      <th>V17</th>\n",
       "      <td>0</td>\n",
       "      <td>0.0</td>\n",
       "    </tr>\n",
       "    <tr>\n",
       "      <th>V16</th>\n",
       "      <td>0</td>\n",
       "      <td>0.0</td>\n",
       "    </tr>\n",
       "    <tr>\n",
       "      <th>Amount</th>\n",
       "      <td>0</td>\n",
       "      <td>0.0</td>\n",
       "    </tr>\n",
       "    <tr>\n",
       "      <th>V15</th>\n",
       "      <td>0</td>\n",
       "      <td>0.0</td>\n",
       "    </tr>\n",
       "    <tr>\n",
       "      <th>V13</th>\n",
       "      <td>0</td>\n",
       "      <td>0.0</td>\n",
       "    </tr>\n",
       "    <tr>\n",
       "      <th>V12</th>\n",
       "      <td>0</td>\n",
       "      <td>0.0</td>\n",
       "    </tr>\n",
       "    <tr>\n",
       "      <th>V11</th>\n",
       "      <td>0</td>\n",
       "      <td>0.0</td>\n",
       "    </tr>\n",
       "    <tr>\n",
       "      <th>V10</th>\n",
       "      <td>0</td>\n",
       "      <td>0.0</td>\n",
       "    </tr>\n",
       "    <tr>\n",
       "      <th>V9</th>\n",
       "      <td>0</td>\n",
       "      <td>0.0</td>\n",
       "    </tr>\n",
       "    <tr>\n",
       "      <th>V8</th>\n",
       "      <td>0</td>\n",
       "      <td>0.0</td>\n",
       "    </tr>\n",
       "    <tr>\n",
       "      <th>V7</th>\n",
       "      <td>0</td>\n",
       "      <td>0.0</td>\n",
       "    </tr>\n",
       "    <tr>\n",
       "      <th>V6</th>\n",
       "      <td>0</td>\n",
       "      <td>0.0</td>\n",
       "    </tr>\n",
       "    <tr>\n",
       "      <th>V5</th>\n",
       "      <td>0</td>\n",
       "      <td>0.0</td>\n",
       "    </tr>\n",
       "    <tr>\n",
       "      <th>V4</th>\n",
       "      <td>0</td>\n",
       "      <td>0.0</td>\n",
       "    </tr>\n",
       "    <tr>\n",
       "      <th>V3</th>\n",
       "      <td>0</td>\n",
       "      <td>0.0</td>\n",
       "    </tr>\n",
       "    <tr>\n",
       "      <th>V2</th>\n",
       "      <td>0</td>\n",
       "      <td>0.0</td>\n",
       "    </tr>\n",
       "    <tr>\n",
       "      <th>V1</th>\n",
       "      <td>0</td>\n",
       "      <td>0.0</td>\n",
       "    </tr>\n",
       "    <tr>\n",
       "      <th>V14</th>\n",
       "      <td>0</td>\n",
       "      <td>0.0</td>\n",
       "    </tr>\n",
       "    <tr>\n",
       "      <th>Class</th>\n",
       "      <td>0</td>\n",
       "      <td>0.0</td>\n",
       "    </tr>\n",
       "  </tbody>\n",
       "</table>\n",
       "</div>\n",
       "      <button class=\"colab-df-convert\" onclick=\"convertToInteractive('df-3c3f0e07-e4ec-4c2d-9cbc-306b63ff2494')\"\n",
       "              title=\"Convert this dataframe to an interactive table.\"\n",
       "              style=\"display:none;\">\n",
       "        \n",
       "  <svg xmlns=\"http://www.w3.org/2000/svg\" height=\"24px\"viewBox=\"0 0 24 24\"\n",
       "       width=\"24px\">\n",
       "    <path d=\"M0 0h24v24H0V0z\" fill=\"none\"/>\n",
       "    <path d=\"M18.56 5.44l.94 2.06.94-2.06 2.06-.94-2.06-.94-.94-2.06-.94 2.06-2.06.94zm-11 1L8.5 8.5l.94-2.06 2.06-.94-2.06-.94L8.5 2.5l-.94 2.06-2.06.94zm10 10l.94 2.06.94-2.06 2.06-.94-2.06-.94-.94-2.06-.94 2.06-2.06.94z\"/><path d=\"M17.41 7.96l-1.37-1.37c-.4-.4-.92-.59-1.43-.59-.52 0-1.04.2-1.43.59L10.3 9.45l-7.72 7.72c-.78.78-.78 2.05 0 2.83L4 21.41c.39.39.9.59 1.41.59.51 0 1.02-.2 1.41-.59l7.78-7.78 2.81-2.81c.8-.78.8-2.07 0-2.86zM5.41 20L4 18.59l7.72-7.72 1.47 1.35L5.41 20z\"/>\n",
       "  </svg>\n",
       "      </button>\n",
       "      \n",
       "  <style>\n",
       "    .colab-df-container {\n",
       "      display:flex;\n",
       "      flex-wrap:wrap;\n",
       "      gap: 12px;\n",
       "    }\n",
       "\n",
       "    .colab-df-convert {\n",
       "      background-color: #E8F0FE;\n",
       "      border: none;\n",
       "      border-radius: 50%;\n",
       "      cursor: pointer;\n",
       "      display: none;\n",
       "      fill: #1967D2;\n",
       "      height: 32px;\n",
       "      padding: 0 0 0 0;\n",
       "      width: 32px;\n",
       "    }\n",
       "\n",
       "    .colab-df-convert:hover {\n",
       "      background-color: #E2EBFA;\n",
       "      box-shadow: 0px 1px 2px rgba(60, 64, 67, 0.3), 0px 1px 3px 1px rgba(60, 64, 67, 0.15);\n",
       "      fill: #174EA6;\n",
       "    }\n",
       "\n",
       "    [theme=dark] .colab-df-convert {\n",
       "      background-color: #3B4455;\n",
       "      fill: #D2E3FC;\n",
       "    }\n",
       "\n",
       "    [theme=dark] .colab-df-convert:hover {\n",
       "      background-color: #434B5C;\n",
       "      box-shadow: 0px 1px 3px 1px rgba(0, 0, 0, 0.15);\n",
       "      filter: drop-shadow(0px 1px 2px rgba(0, 0, 0, 0.3));\n",
       "      fill: #FFFFFF;\n",
       "    }\n",
       "  </style>\n",
       "\n",
       "      <script>\n",
       "        const buttonEl =\n",
       "          document.querySelector('#df-3c3f0e07-e4ec-4c2d-9cbc-306b63ff2494 button.colab-df-convert');\n",
       "        buttonEl.style.display =\n",
       "          google.colab.kernel.accessAllowed ? 'block' : 'none';\n",
       "\n",
       "        async function convertToInteractive(key) {\n",
       "          const element = document.querySelector('#df-3c3f0e07-e4ec-4c2d-9cbc-306b63ff2494');\n",
       "          const dataTable =\n",
       "            await google.colab.kernel.invokeFunction('convertToInteractive',\n",
       "                                                     [key], {});\n",
       "          if (!dataTable) return;\n",
       "\n",
       "          const docLinkHtml = 'Like what you see? Visit the ' +\n",
       "            '<a target=\"_blank\" href=https://colab.research.google.com/notebooks/data_table.ipynb>data table notebook</a>'\n",
       "            + ' to learn more about interactive tables.';\n",
       "          element.innerHTML = '';\n",
       "          dataTable['output_type'] = 'display_data';\n",
       "          await google.colab.output.renderOutput(dataTable, element);\n",
       "          const docLink = document.createElement('div');\n",
       "          docLink.innerHTML = docLinkHtml;\n",
       "          element.appendChild(docLink);\n",
       "        }\n",
       "      </script>\n",
       "    </div>\n",
       "  </div>\n",
       "  "
      ],
      "text/plain": [
       "        Total missing values  Percentage missing values\n",
       "Time                       0                        0.0\n",
       "V28                        0                        0.0\n",
       "V27                        0                        0.0\n",
       "V26                        0                        0.0\n",
       "V25                        0                        0.0\n",
       "V24                        0                        0.0\n",
       "V23                        0                        0.0\n",
       "V22                        0                        0.0\n",
       "V21                        0                        0.0\n",
       "V20                        0                        0.0\n",
       "V19                        0                        0.0\n",
       "V18                        0                        0.0\n",
       "V17                        0                        0.0\n",
       "V16                        0                        0.0\n",
       "Amount                     0                        0.0\n",
       "V15                        0                        0.0\n",
       "V13                        0                        0.0\n",
       "V12                        0                        0.0\n",
       "V11                        0                        0.0\n",
       "V10                        0                        0.0\n",
       "V9                         0                        0.0\n",
       "V8                         0                        0.0\n",
       "V7                         0                        0.0\n",
       "V6                         0                        0.0\n",
       "V5                         0                        0.0\n",
       "V4                         0                        0.0\n",
       "V3                         0                        0.0\n",
       "V2                         0                        0.0\n",
       "V1                         0                        0.0\n",
       "V14                        0                        0.0\n",
       "Class                      0                        0.0"
      ]
     },
     "execution_count": 10,
     "metadata": {},
     "output_type": "execute_result"
    }
   ],
   "source": [
    "# Missing values\n",
    "def missing_values(df):\n",
    "    total_null = df.isna().sum()\n",
    "    percent_null = df.isna().sum() / df.count()\n",
    "    missing_data = pd.concat([total_null, percent_null], axis = 1, \n",
    "                             keys = ['Total missing values', 'Percentage missing values']).sort_values('Total missing values')\n",
    "    return missing_data\n",
    "\n",
    "missing_values(credit_card_df)"
   ]
  },
  {
   "cell_type": "code",
   "execution_count": 11,
   "id": "a9180523",
   "metadata": {
    "colab": {
     "base_uri": "https://localhost:8080/"
    },
    "id": "a9180523",
    "outputId": "cc58ebd2-feb7-4cde-f772-02864bd363ed"
   },
   "outputs": [
    {
     "name": "stdout",
     "output_type": "stream",
     "text": [
      "Class count:\n",
      "0    284315\n",
      "1       492\n",
      "Name: Class, dtype: int64\n"
     ]
    }
   ],
   "source": [
    "print('Class count:')\n",
    "print(credit_card_df.Class.value_counts())"
   ]
  },
  {
   "cell_type": "markdown",
   "id": "9ee7128b",
   "metadata": {
    "id": "9ee7128b"
   },
   "source": [
    "##### NOTE: Difference between sns.catplot and sns.countplot\n",
    "- Countplot\n",
    "    - Shows count of observations in each categorical bin using bars\n",
    "- Catplot\n",
    "    - Provides access to several axes-level functions that show the relationship between a numerical and one or more categorical variables using one of several visual representations\n",
    "\n",
    "- [Add count values on bars](https://www.geeksforgeeks.org/how-to-annotate-bars-in-barplot-with-matplotlib-in-python/)"
   ]
  },
  {
   "cell_type": "code",
   "execution_count": 12,
   "id": "978fdcb8",
   "metadata": {
    "colab": {
     "base_uri": "https://localhost:8080/",
     "height": 373
    },
    "id": "978fdcb8",
    "outputId": "b70ff5eb-52c5-46eb-d762-ef3958ae77b8"
   },
   "outputs": [
    {
     "name": "stderr",
     "output_type": "stream",
     "text": [
      "findfont: Font family ['Verdana'] not found. Falling back to DejaVu Sans.\n",
      "findfont: Font family ['Verdana'] not found. Falling back to DejaVu Sans.\n"
     ]
    },
    {
     "data": {
      "image/png": "[encoded data removed]",
      "text/plain": [
       "<Figure size 576x360 with 1 Axes>"
      ]
     },
     "metadata": {
      "needs_background": "light"
     },
     "output_type": "display_data"
    }
   ],
   "source": [
    "# Plot the class count\n",
    "fig, ax = plt.subplots(figsize=(8,5))\n",
    "class_count = sns.countplot(x = 'Class', data = credit_card_df)\n",
    "class_count.set_xticklabels(['Not Fraud', 'Fraud'])\n",
    "class_count.set_yticklabels([]) # To disable all value markings on y-axis\n",
    "\n",
    "# Function to show values on bars\n",
    "for p in class_count.patches:\n",
    "    class_count.annotate('{:.0f}'.format(p.get_height()), (p.get_x()+ 0.30, p.get_height()))\n",
    "    \n",
    "# Cleaning up the plot\n",
    "plt.xlabel('')\n",
    "plt.ylabel('')\n",
    "plt.title('Distribution of transaction classes', fontsize = 12)\n",
    "plt.show()"
   ]
  },
  {
   "cell_type": "code",
   "execution_count": 13,
   "id": "8cdcdac2",
   "metadata": {
    "colab": {
     "base_uri": "https://localhost:8080/"
    },
    "id": "8cdcdac2",
    "outputId": "922e2d18-dfa9-4759-cef3-46a5c434b337"
   },
   "outputs": [
    {
     "data": {
      "text/plain": [
       "0.1727485630620034"
      ]
     },
     "execution_count": 13,
     "metadata": {},
     "output_type": "execute_result"
    }
   ],
   "source": [
    "# Percentage of each minor class (FRAUD)\n",
    "len(credit_card_df.loc[credit_card_df.Class==1]) / credit_card_df.shape[0] *100"
   ]
  },
  {
   "cell_type": "markdown",
   "id": "99cb9b99",
   "metadata": {
    "id": "99cb9b99"
   },
   "source": [
    "- From the above plot we can see that the dataset is highly imbalanced with only **0.17%** of target class(FRAUD)\n",
    "- This is a problem because many machine learning models are designed to maximize overall accuracy, which especially with imbalanced classes may not be the best metric to use\n",
    "- Classification accuracy is defined as the number of correct predictions divided by total predictions times 100\n",
    "- For example, if we simply predicted all transactions are not fraud, we would get a classification acuracy score of over 99%!"
   ]
  },
  {
   "cell_type": "markdown",
   "id": "801d0030",
   "metadata": {
    "id": "801d0030"
   },
   "source": [
    "#### Train-Test split"
   ]
  },
  {
   "cell_type": "code",
   "execution_count": 14,
   "id": "b9267891",
   "metadata": {
    "id": "b9267891"
   },
   "outputs": [],
   "source": [
    "from sklearn.model_selection import train_test_split\n",
    "\n",
    "# Separating input and target\n",
    "y = credit_card_df.Class\n",
    "X = credit_card_df.drop('Class', axis = 1) # Drop target variable\n",
    "\n",
    "X_train, X_test, y_train, y_test = train_test_split(X, y, test_size = 0.25, random_state = 42)"
   ]
  },
  {
   "cell_type": "markdown",
   "id": "69df4f30",
   "metadata": {
    "id": "69df4f30"
   },
   "source": [
    "#### Baseline model with Dummy Classifier with imbalanced data"
   ]
  },
  {
   "cell_type": "code",
   "execution_count": 15,
   "id": "36960499",
   "metadata": {
    "id": "36960499"
   },
   "outputs": [],
   "source": [
    "from sklearn.dummy import DummyClassifier\n",
    "from sklearn.metrics import accuracy_score, recall_score, f1_score, confusion_matrix"
   ]
  },
  {
   "cell_type": "code",
   "execution_count": 16,
   "id": "87e47fa4",
   "metadata": {
    "colab": {
     "base_uri": "https://localhost:8080/"
    },
    "id": "87e47fa4",
    "outputId": "58cb5a8a-9425-4ccd-ed17-d2ca06421633"
   },
   "outputs": [
    {
     "name": "stdout",
     "output_type": "stream",
     "text": [
      "Unique predicted labels:  [0]\n",
      "Accuracy score:  0.9984129659279234\n"
     ]
    }
   ],
   "source": [
    "# Dummy Classifier\n",
    "dummy = DummyClassifier(strategy = 'most_frequent').fit(X_train, y_train)\n",
    "dummy_predictions = dummy.predict(X_test)\n",
    "\n",
    "# Results\n",
    "print('Unique predicted labels: ', np.unique(dummy_predictions))\n",
    "\n",
    "# Accuracy\n",
    "print('Accuracy score: ', accuracy_score(y_test, dummy_predictions))"
   ]
  },
  {
   "cell_type": "markdown",
   "id": "3c91e835",
   "metadata": {
    "id": "3c91e835"
   },
   "source": [
    "- As predicted our accuracy score (using Dummy classifier) for classifying all transactions as NOT FRAUD is 99.8%\n",
    "\n",
    "- As per the above results, the Dummy Classifier predicts only Class 0, and hence is clearly not a good option for our objective of correctly classifying fraudulent transactions"
   ]
  },
  {
   "cell_type": "markdown",
   "id": "8e37894c",
   "metadata": {
    "id": "8e37894c"
   },
   "source": [
    "#### Logistic regression on imbalanced dataset"
   ]
  },
  {
   "cell_type": "code",
   "execution_count": 17,
   "id": "628e34ae",
   "metadata": {
    "colab": {
     "base_uri": "https://localhost:8080/"
    },
    "id": "628e34ae",
    "outputId": "31b7ce8a-6124-40f6-91f0-a5d29d35366e"
   },
   "outputs": [
    {
     "name": "stdout",
     "output_type": "stream",
     "text": [
      "Unique predicted labels:  [0 1]\n",
      "Accuracy score:  0.9987640796606837\n"
     ]
    },
    {
     "name": "stderr",
     "output_type": "stream",
     "text": [
      "/usr/local/lib/python3.7/dist-packages/sklearn/linear_model/_logistic.py:818: ConvergenceWarning: lbfgs failed to converge (status=1):\n",
      "STOP: TOTAL NO. of ITERATIONS REACHED LIMIT.\n",
      "\n",
      "Increase the number of iterations (max_iter) or scale the data as shown in:\n",
      "    https://scikit-learn.org/stable/modules/preprocessing.html\n",
      "Please also refer to the documentation for alternative solver options:\n",
      "    https://scikit-learn.org/stable/modules/linear_model.html#logistic-regression\n",
      "  extra_warning_msg=_LOGISTIC_SOLVER_CONVERGENCE_MSG,\n"
     ]
    }
   ],
   "source": [
    "from sklearn.linear_model import LogisticRegression\n",
    "\n",
    "lr_imbalanced = LogisticRegression().fit(X_train, y_train)\n",
    "lr_imbalanced_pred = lr_imbalanced.predict(X_test)\n",
    "\n",
    "# Results\n",
    "print('Unique predicted labels: ', np.unique(lr_imbalanced_pred))\n",
    "\n",
    "# Check accuracy\n",
    "print('Accuracy score: ', accuracy_score(y_test, lr_imbalanced_pred))"
   ]
  },
  {
   "cell_type": "code",
   "execution_count": 18,
   "id": "cd5a8e14",
   "metadata": {
    "colab": {
     "base_uri": "https://localhost:8080/"
    },
    "id": "cd5a8e14",
    "outputId": "56fe714f-2072-4682-b5ca-70c6d17b845c"
   },
   "outputs": [
    {
     "data": {
      "text/plain": [
       "0    71093\n",
       "1      109\n",
       "Name: 0, dtype: int64"
      ]
     },
     "execution_count": 18,
     "metadata": {},
     "output_type": "execute_result"
    }
   ],
   "source": [
    "# Checking count of predicted values\n",
    "preds = pd.DataFrame(lr_imbalanced_pred)\n",
    "preds[0].value_counts()"
   ]
  },
  {
   "cell_type": "markdown",
   "id": "14121427",
   "metadata": {
    "id": "14121427"
   },
   "source": [
    "`Logistic regression outperformed Dummy Classifier on imbalanced dataset`, where it predicted 94 instances of class 1.\n",
    "\n",
    "The accuracy score decreased as compared to the dummy classifier above. This tells us that either we did something wrong in our logistic regression model, or that *accuracy* might not be our best option for measuring performance."
   ]
  },
  {
   "cell_type": "markdown",
   "id": "7651ce16",
   "metadata": {
    "id": "7651ce16"
   },
   "source": [
    "#### Change the performance metric\n",
    "\n",
    "Accuracy can be very misleading and is not the best metric to use when evaluating imbalanced datasets. \n",
    "\n",
    "[Metrics](https://medium.com/towards-data-science/how-to-best-evaluate-a-classification-model-2edb12bcc587) that can provide better insights:\n",
    "\n",
    "**1. Confusion matrix:**\n",
    "Table showing correct predictions and types of incorrect predictions. It is used to calculate precision and recall.\n",
    "- True positive (TP): Predicting positive class as positive (ok)\n",
    "- False positive (FP): Predicting negative class as positive (not ok) ==> Type I error\n",
    "- False negative (FN): Predicting positive class as negative (not ok) ==> Type II error\n",
    "- True negative (TN): Predicting negative class as negative (ok)\n",
    "\n",
    "`TRICK TO REMEMBER:`\n",
    "- Second word is what the model predicts.\n",
    "- First word indicates whether the prediction is correct.\n",
    "\n",
    "**2. Precision:**\n",
    "\n",
    "$Precision = TP / (TP +FP)$\n",
    "\n",
    "- The focus of precision is `positive predictions`\n",
    "- Measures how good the model is at correctly predicting positive classes (PREDICTED positive classes)\n",
    "- *It indicates how many positive predictions are true*\n",
    "- e.g. for an email spam detection model, we try to maximize precision because we want to be correct when an email is predicted (detected) as spam, we do not want to label a normal email as spam (i.e. false positive)\n",
    "\n",
    "**3. Recall:**\n",
    "\n",
    "$Recall = TP / (TP + FN)$\n",
    "\n",
    "- Measures how good the model is at **correctly** predicting positive classes (ACUTAL positive classes)\n",
    "- *It indicates how many of the positive classes the model is able to predict correctly*\n",
    "- e.g. for a tumor detection task, we need to *maximize recall* because we want to detect positive classes as much as possible\n",
    "\n",
    "**4. F-1 score:**\n",
    "\n",
    "$F-1score = 2 * (Precision * Recall) / (Precision + Recall)$\n",
    "\n",
    "- Harmonic mean of Precision and Recall\n",
    "- More useful measure than accuracy for problems with uneven class distribution\n",
    "    - It takes into account both false positive and false negatives\n",
    "- Ranges from [0,1]\n",
    "\n",
    "**5. Sensitivity (True-positive rate (TPR)):**\n",
    "- Proportion of positive classes that is correctly predicted (from ACTUAL classes) as positive\n",
    "\n",
    "**6. Specificity:**\n",
    "\n",
    "$False-positive-rate(FPR) = 1 - Specificity$\n",
    "\n",
    "- Measures proportion of negative classes that is correctly predicted (from ACTUAL classes) as negative\n"
   ]
  },
  {
   "cell_type": "markdown",
   "id": "d9441265",
   "metadata": {
    "id": "d9441265"
   },
   "source": [
    "##### Applying f-1 score and recall score to the logistic regression model on imbalanced dataset"
   ]
  },
  {
   "cell_type": "code",
   "execution_count": 19,
   "id": "23ef10f7",
   "metadata": {
    "colab": {
     "base_uri": "https://localhost:8080/"
    },
    "id": "23ef10f7",
    "outputId": "98366e9e-3c9b-472c-ff8d-51290794bf27"
   },
   "outputs": [
    {
     "name": "stdout",
     "output_type": "stream",
     "text": [
      "F-1 score for logistic regression on imbalanced data:  0.6036036036036037\n",
      "Recall for logistic regression on imbalanced data:  0.5929203539823009\n"
     ]
    }
   ],
   "source": [
    "# F1-score\n",
    "print('F-1 score for logistic regression on imbalanced data: ', f1_score(y_test, lr_imbalanced_pred))\n",
    "\n",
    "# Recall\n",
    "print('Recall for logistic regression on imbalanced data: ', recall_score(y_test, lr_imbalanced_pred))"
   ]
  },
  {
   "cell_type": "markdown",
   "id": "844b55af",
   "metadata": {
    "id": "844b55af"
   },
   "source": [
    "We get an unimpressive score on the model. "
   ]
  },
  {
   "cell_type": "markdown",
   "id": "82c03824",
   "metadata": {
    "id": "82c03824"
   },
   "source": [
    "### Resampling techniques"
   ]
  },
  {
   "cell_type": "markdown",
   "id": "60a9350d",
   "metadata": {
    "id": "60a9350d"
   },
   "source": [
    "#### 1. Oversampling minority class\n",
    "\n",
    "- Defined as adding more copies of the minority class\n",
    "- It works well if you don't have a lot of data to work with\n",
    "\n",
    "**NOTE:**\n",
    "- It's important to split into test and train sets BEFORE resampling techniques\n",
    "- Oversampling before splitting the data can allow the exact same observations to be present in both the test and train sets\n",
    "- This can cause the model to remember certain data points and lead to overfitting and poor generalization to test data"
   ]
  },
  {
   "cell_type": "code",
   "execution_count": 20,
   "id": "dc43da53",
   "metadata": {
    "id": "dc43da53"
   },
   "outputs": [],
   "source": [
    "# Separating input and target\n",
    "y = credit_card_df.Class\n",
    "X = credit_card_df.drop('Class', axis = 1)"
   ]
  },
  {
   "cell_type": "code",
   "execution_count": 21,
   "id": "58d7a0c8",
   "metadata": {
    "id": "58d7a0c8"
   },
   "outputs": [],
   "source": [
    "# Splitting data\n",
    "X_train, X_test, y_train, y_test = train_test_split(X, y, test_size = 0.25, random_state = 42)"
   ]
  },
  {
   "cell_type": "code",
   "execution_count": 22,
   "id": "b877cdb2",
   "metadata": {
    "colab": {
     "base_uri": "https://localhost:8080/",
     "height": 299
    },
    "id": "b877cdb2",
    "outputId": "c141513f-69d4-4c4b-b6b2-0f0931296ed2"
   },
   "outputs": [
    {
     "data": {
      "text/html": [
       "\n",
       "  <div id=\"df-965c5dbb-705f-4584-a43a-b4cdcddd8f0a\">\n",
       "    <div class=\"colab-df-container\">\n",
       "      <div>\n",
       "<style scoped>\n",
       "    .dataframe tbody tr th:only-of-type {\n",
       "        vertical-align: middle;\n",
       "    }\n",
       "\n",
       "    .dataframe tbody tr th {\n",
       "        vertical-align: top;\n",
       "    }\n",
       "\n",
       "    .dataframe thead th {\n",
       "        text-align: right;\n",
       "    }\n",
       "</style>\n",
       "<table border=\"1\" class=\"dataframe\">\n",
       "  <thead>\n",
       "    <tr style=\"text-align: right;\">\n",
       "      <th></th>\n",
       "      <th>Time</th>\n",
       "      <th>V1</th>\n",
       "      <th>V2</th>\n",
       "      <th>V3</th>\n",
       "      <th>V4</th>\n",
       "      <th>V5</th>\n",
       "      <th>V6</th>\n",
       "      <th>V7</th>\n",
       "      <th>V8</th>\n",
       "      <th>V9</th>\n",
       "      <th>...</th>\n",
       "      <th>V21</th>\n",
       "      <th>V22</th>\n",
       "      <th>V23</th>\n",
       "      <th>V24</th>\n",
       "      <th>V25</th>\n",
       "      <th>V26</th>\n",
       "      <th>V27</th>\n",
       "      <th>V28</th>\n",
       "      <th>Amount</th>\n",
       "      <th>Class</th>\n",
       "    </tr>\n",
       "  </thead>\n",
       "  <tbody>\n",
       "    <tr>\n",
       "      <th>83225</th>\n",
       "      <td>59741.0</td>\n",
       "      <td>-1.648591</td>\n",
       "      <td>1.228130</td>\n",
       "      <td>1.370169</td>\n",
       "      <td>-1.735542</td>\n",
       "      <td>-0.029455</td>\n",
       "      <td>-0.484129</td>\n",
       "      <td>0.918645</td>\n",
       "      <td>-0.438750</td>\n",
       "      <td>0.982144</td>\n",
       "      <td>...</td>\n",
       "      <td>-0.218076</td>\n",
       "      <td>-0.203458</td>\n",
       "      <td>-0.213015</td>\n",
       "      <td>0.011372</td>\n",
       "      <td>-0.304481</td>\n",
       "      <td>0.632063</td>\n",
       "      <td>-0.262968</td>\n",
       "      <td>-0.099863</td>\n",
       "      <td>38.42</td>\n",
       "      <td>0</td>\n",
       "    </tr>\n",
       "    <tr>\n",
       "      <th>52800</th>\n",
       "      <td>45648.0</td>\n",
       "      <td>-0.234775</td>\n",
       "      <td>-0.493269</td>\n",
       "      <td>1.236728</td>\n",
       "      <td>-2.338793</td>\n",
       "      <td>-1.176733</td>\n",
       "      <td>0.885733</td>\n",
       "      <td>-1.960981</td>\n",
       "      <td>-2.363412</td>\n",
       "      <td>-2.694774</td>\n",
       "      <td>...</td>\n",
       "      <td>-1.495358</td>\n",
       "      <td>-0.083066</td>\n",
       "      <td>0.074612</td>\n",
       "      <td>-0.347329</td>\n",
       "      <td>0.541900</td>\n",
       "      <td>-0.433294</td>\n",
       "      <td>0.089293</td>\n",
       "      <td>0.212029</td>\n",
       "      <td>61.20</td>\n",
       "      <td>0</td>\n",
       "    </tr>\n",
       "    <tr>\n",
       "      <th>21293</th>\n",
       "      <td>31579.0</td>\n",
       "      <td>1.134626</td>\n",
       "      <td>-0.774460</td>\n",
       "      <td>-0.163390</td>\n",
       "      <td>-0.533358</td>\n",
       "      <td>-0.604555</td>\n",
       "      <td>-0.244482</td>\n",
       "      <td>-0.212682</td>\n",
       "      <td>0.040782</td>\n",
       "      <td>-1.136627</td>\n",
       "      <td>...</td>\n",
       "      <td>-0.684454</td>\n",
       "      <td>-1.855269</td>\n",
       "      <td>0.171997</td>\n",
       "      <td>-0.387783</td>\n",
       "      <td>-0.062985</td>\n",
       "      <td>0.245118</td>\n",
       "      <td>-0.061178</td>\n",
       "      <td>0.012180</td>\n",
       "      <td>110.95</td>\n",
       "      <td>0</td>\n",
       "    </tr>\n",
       "    <tr>\n",
       "      <th>133600</th>\n",
       "      <td>80455.0</td>\n",
       "      <td>0.069514</td>\n",
       "      <td>1.017753</td>\n",
       "      <td>1.033117</td>\n",
       "      <td>1.384376</td>\n",
       "      <td>0.223233</td>\n",
       "      <td>-0.310845</td>\n",
       "      <td>0.597287</td>\n",
       "      <td>-0.127658</td>\n",
       "      <td>-0.701533</td>\n",
       "      <td>...</td>\n",
       "      <td>0.097023</td>\n",
       "      <td>0.369957</td>\n",
       "      <td>-0.219266</td>\n",
       "      <td>-0.124941</td>\n",
       "      <td>-0.049749</td>\n",
       "      <td>-0.112946</td>\n",
       "      <td>0.114440</td>\n",
       "      <td>0.066101</td>\n",
       "      <td>10.00</td>\n",
       "      <td>0</td>\n",
       "    </tr>\n",
       "    <tr>\n",
       "      <th>38225</th>\n",
       "      <td>39302.0</td>\n",
       "      <td>-0.199441</td>\n",
       "      <td>0.610092</td>\n",
       "      <td>-0.114437</td>\n",
       "      <td>0.256565</td>\n",
       "      <td>2.290752</td>\n",
       "      <td>4.008475</td>\n",
       "      <td>-0.123530</td>\n",
       "      <td>1.038374</td>\n",
       "      <td>-0.075846</td>\n",
       "      <td>...</td>\n",
       "      <td>-0.019733</td>\n",
       "      <td>0.165463</td>\n",
       "      <td>-0.080978</td>\n",
       "      <td>1.020656</td>\n",
       "      <td>-0.300730</td>\n",
       "      <td>-0.269595</td>\n",
       "      <td>0.481769</td>\n",
       "      <td>0.254114</td>\n",
       "      <td>22.00</td>\n",
       "      <td>0</td>\n",
       "    </tr>\n",
       "  </tbody>\n",
       "</table>\n",
       "<p>5 rows × 31 columns</p>\n",
       "</div>\n",
       "      <button class=\"colab-df-convert\" onclick=\"convertToInteractive('df-965c5dbb-705f-4584-a43a-b4cdcddd8f0a')\"\n",
       "              title=\"Convert this dataframe to an interactive table.\"\n",
       "              style=\"display:none;\">\n",
       "        \n",
       "  <svg xmlns=\"http://www.w3.org/2000/svg\" height=\"24px\"viewBox=\"0 0 24 24\"\n",
       "       width=\"24px\">\n",
       "    <path d=\"M0 0h24v24H0V0z\" fill=\"none\"/>\n",
       "    <path d=\"M18.56 5.44l.94 2.06.94-2.06 2.06-.94-2.06-.94-.94-2.06-.94 2.06-2.06.94zm-11 1L8.5 8.5l.94-2.06 2.06-.94-2.06-.94L8.5 2.5l-.94 2.06-2.06.94zm10 10l.94 2.06.94-2.06 2.06-.94-2.06-.94-.94-2.06-.94 2.06-2.06.94z\"/><path d=\"M17.41 7.96l-1.37-1.37c-.4-.4-.92-.59-1.43-.59-.52 0-1.04.2-1.43.59L10.3 9.45l-7.72 7.72c-.78.78-.78 2.05 0 2.83L4 21.41c.39.39.9.59 1.41.59.51 0 1.02-.2 1.41-.59l7.78-7.78 2.81-2.81c.8-.78.8-2.07 0-2.86zM5.41 20L4 18.59l7.72-7.72 1.47 1.35L5.41 20z\"/>\n",
       "  </svg>\n",
       "      </button>\n",
       "      \n",
       "  <style>\n",
       "    .colab-df-container {\n",
       "      display:flex;\n",
       "      flex-wrap:wrap;\n",
       "      gap: 12px;\n",
       "    }\n",
       "\n",
       "    .colab-df-convert {\n",
       "      background-color: #E8F0FE;\n",
       "      border: none;\n",
       "      border-radius: 50%;\n",
       "      cursor: pointer;\n",
       "      display: none;\n",
       "      fill: #1967D2;\n",
       "      height: 32px;\n",
       "      padding: 0 0 0 0;\n",
       "      width: 32px;\n",
       "    }\n",
       "\n",
       "    .colab-df-convert:hover {\n",
       "      background-color: #E2EBFA;\n",
       "      box-shadow: 0px 1px 2px rgba(60, 64, 67, 0.3), 0px 1px 3px 1px rgba(60, 64, 67, 0.15);\n",
       "      fill: #174EA6;\n",
       "    }\n",
       "\n",
       "    [theme=dark] .colab-df-convert {\n",
       "      background-color: #3B4455;\n",
       "      fill: #D2E3FC;\n",
       "    }\n",
       "\n",
       "    [theme=dark] .colab-df-convert:hover {\n",
       "      background-color: #434B5C;\n",
       "      box-shadow: 0px 1px 3px 1px rgba(0, 0, 0, 0.15);\n",
       "      filter: drop-shadow(0px 1px 2px rgba(0, 0, 0, 0.3));\n",
       "      fill: #FFFFFF;\n",
       "    }\n",
       "  </style>\n",
       "\n",
       "      <script>\n",
       "        const buttonEl =\n",
       "          document.querySelector('#df-965c5dbb-705f-4584-a43a-b4cdcddd8f0a button.colab-df-convert');\n",
       "        buttonEl.style.display =\n",
       "          google.colab.kernel.accessAllowed ? 'block' : 'none';\n",
       "\n",
       "        async function convertToInteractive(key) {\n",
       "          const element = document.querySelector('#df-965c5dbb-705f-4584-a43a-b4cdcddd8f0a');\n",
       "          const dataTable =\n",
       "            await google.colab.kernel.invokeFunction('convertToInteractive',\n",
       "                                                     [key], {});\n",
       "          if (!dataTable) return;\n",
       "\n",
       "          const docLinkHtml = 'Like what you see? Visit the ' +\n",
       "            '<a target=\"_blank\" href=https://colab.research.google.com/notebooks/data_table.ipynb>data table notebook</a>'\n",
       "            + ' to learn more about interactive tables.';\n",
       "          element.innerHTML = '';\n",
       "          dataTable['output_type'] = 'display_data';\n",
       "          await google.colab.output.renderOutput(dataTable, element);\n",
       "          const docLink = document.createElement('div');\n",
       "          docLink.innerHTML = docLinkHtml;\n",
       "          element.appendChild(docLink);\n",
       "        }\n",
       "      </script>\n",
       "    </div>\n",
       "  </div>\n",
       "  "
      ],
      "text/plain": [
       "           Time        V1        V2        V3        V4        V5        V6  \\\n",
       "83225   59741.0 -1.648591  1.228130  1.370169 -1.735542 -0.029455 -0.484129   \n",
       "52800   45648.0 -0.234775 -0.493269  1.236728 -2.338793 -1.176733  0.885733   \n",
       "21293   31579.0  1.134626 -0.774460 -0.163390 -0.533358 -0.604555 -0.244482   \n",
       "133600  80455.0  0.069514  1.017753  1.033117  1.384376  0.223233 -0.310845   \n",
       "38225   39302.0 -0.199441  0.610092 -0.114437  0.256565  2.290752  4.008475   \n",
       "\n",
       "              V7        V8        V9  ...       V21       V22       V23  \\\n",
       "83225   0.918645 -0.438750  0.982144  ... -0.218076 -0.203458 -0.213015   \n",
       "52800  -1.960981 -2.363412 -2.694774  ... -1.495358 -0.083066  0.074612   \n",
       "21293  -0.212682  0.040782 -1.136627  ... -0.684454 -1.855269  0.171997   \n",
       "133600  0.597287 -0.127658 -0.701533  ...  0.097023  0.369957 -0.219266   \n",
       "38225  -0.123530  1.038374 -0.075846  ... -0.019733  0.165463 -0.080978   \n",
       "\n",
       "             V24       V25       V26       V27       V28  Amount  Class  \n",
       "83225   0.011372 -0.304481  0.632063 -0.262968 -0.099863   38.42      0  \n",
       "52800  -0.347329  0.541900 -0.433294  0.089293  0.212029   61.20      0  \n",
       "21293  -0.387783 -0.062985  0.245118 -0.061178  0.012180  110.95      0  \n",
       "133600 -0.124941 -0.049749 -0.112946  0.114440  0.066101   10.00      0  \n",
       "38225   1.020656 -0.300730 -0.269595  0.481769  0.254114   22.00      0  \n",
       "\n",
       "[5 rows x 31 columns]"
      ]
     },
     "execution_count": 22,
     "metadata": {},
     "output_type": "execute_result"
    }
   ],
   "source": [
    "# Putting together X_train and y_train as a training dataframe\n",
    "X = pd.concat([X_train, y_train], axis = 1)\n",
    "X.head()"
   ]
  },
  {
   "cell_type": "code",
   "execution_count": 23,
   "id": "bd19cc93",
   "metadata": {
    "id": "bd19cc93"
   },
   "outputs": [],
   "source": [
    "# Separating minority and majority classes\n",
    "not_fraud = X[X.Class == 0]\n",
    "fraud = X[X.Class == 1]"
   ]
  },
  {
   "cell_type": "code",
   "execution_count": 24,
   "id": "71e1e8c4",
   "metadata": {
    "colab": {
     "base_uri": "https://localhost:8080/"
    },
    "id": "71e1e8c4",
    "outputId": "77bc5392-127d-4f5f-9e6f-1069a83f7c9c"
   },
   "outputs": [
    {
     "data": {
      "text/plain": [
       "0    213226\n",
       "1    213226\n",
       "Name: Class, dtype: int64"
      ]
     },
     "execution_count": 24,
     "metadata": {},
     "output_type": "execute_result"
    }
   ],
   "source": [
    "# Oversampling minority class\n",
    "\n",
    "# Import library\n",
    "from sklearn.utils import resample\n",
    "\n",
    "# Upsample\n",
    "fraud_upsampled = resample(fraud, # The dataframe to resample\n",
    "                          replace = True, # Sample with replacement\n",
    "                          n_samples = len(not_fraud), # Resample to same number of observations as from not_fraud\n",
    "                          random_state = 42) # For reproducibility\n",
    "\n",
    "# Combining majority and upsampled minority dataframes\n",
    "upsampled = pd.concat([not_fraud, fraud_upsampled])\n",
    "\n",
    "# Check class count\n",
    "upsampled.Class.value_counts()"
   ]
  },
  {
   "cell_type": "markdown",
   "id": "d6ebb796",
   "metadata": {
    "id": "d6ebb796"
   },
   "source": [
    "##### Logistic regression with balanced dataset (after oversampled minority class data)"
   ]
  },
  {
   "cell_type": "code",
   "execution_count": 25,
   "id": "f84e4c25",
   "metadata": {
    "id": "f84e4c25"
   },
   "outputs": [],
   "source": [
    "# Trying logistic regression again with the balanced dataset\n",
    "y_train = upsampled.Class\n",
    "X_train = upsampled.drop('Class', axis = 1)\n",
    "\n",
    "upsampled_lr = LogisticRegression().fit(X_train, y_train)\n",
    "upsampled_preds = upsampled_lr.predict(X_test)"
   ]
  },
  {
   "cell_type": "code",
   "execution_count": 26,
   "id": "dfaa4dd5",
   "metadata": {
    "colab": {
     "base_uri": "https://localhost:8080/",
     "height": 167
    },
    "id": "dfaa4dd5",
    "outputId": "f63dc848-a18e-4d3f-f696-8fb5490f098a"
   },
   "outputs": [
    {
     "name": "stdout",
     "output_type": "stream",
     "text": [
      "Accuracy:  0.9562090952501334\n",
      "Recall:  0.911504424778761\n",
      "F-1 score:  0.06197352587244284\n"
     ]
    },
    {
     "data": {
      "text/html": [
       "\n",
       "  <div id=\"df-c28721e2-81ce-4339-8699-3e70623f0c97\">\n",
       "    <div class=\"colab-df-container\">\n",
       "      <div>\n",
       "<style scoped>\n",
       "    .dataframe tbody tr th:only-of-type {\n",
       "        vertical-align: middle;\n",
       "    }\n",
       "\n",
       "    .dataframe tbody tr th {\n",
       "        vertical-align: top;\n",
       "    }\n",
       "\n",
       "    .dataframe thead th {\n",
       "        text-align: right;\n",
       "    }\n",
       "</style>\n",
       "<table border=\"1\" class=\"dataframe\">\n",
       "  <thead>\n",
       "    <tr style=\"text-align: right;\">\n",
       "      <th></th>\n",
       "      <th>0</th>\n",
       "      <th>1</th>\n",
       "    </tr>\n",
       "  </thead>\n",
       "  <tbody>\n",
       "    <tr>\n",
       "      <th>0</th>\n",
       "      <td>67981</td>\n",
       "      <td>3108</td>\n",
       "    </tr>\n",
       "    <tr>\n",
       "      <th>1</th>\n",
       "      <td>10</td>\n",
       "      <td>103</td>\n",
       "    </tr>\n",
       "  </tbody>\n",
       "</table>\n",
       "</div>\n",
       "      <button class=\"colab-df-convert\" onclick=\"convertToInteractive('df-c28721e2-81ce-4339-8699-3e70623f0c97')\"\n",
       "              title=\"Convert this dataframe to an interactive table.\"\n",
       "              style=\"display:none;\">\n",
       "        \n",
       "  <svg xmlns=\"http://www.w3.org/2000/svg\" height=\"24px\"viewBox=\"0 0 24 24\"\n",
       "       width=\"24px\">\n",
       "    <path d=\"M0 0h24v24H0V0z\" fill=\"none\"/>\n",
       "    <path d=\"M18.56 5.44l.94 2.06.94-2.06 2.06-.94-2.06-.94-.94-2.06-.94 2.06-2.06.94zm-11 1L8.5 8.5l.94-2.06 2.06-.94-2.06-.94L8.5 2.5l-.94 2.06-2.06.94zm10 10l.94 2.06.94-2.06 2.06-.94-2.06-.94-.94-2.06-.94 2.06-2.06.94z\"/><path d=\"M17.41 7.96l-1.37-1.37c-.4-.4-.92-.59-1.43-.59-.52 0-1.04.2-1.43.59L10.3 9.45l-7.72 7.72c-.78.78-.78 2.05 0 2.83L4 21.41c.39.39.9.59 1.41.59.51 0 1.02-.2 1.41-.59l7.78-7.78 2.81-2.81c.8-.78.8-2.07 0-2.86zM5.41 20L4 18.59l7.72-7.72 1.47 1.35L5.41 20z\"/>\n",
       "  </svg>\n",
       "      </button>\n",
       "      \n",
       "  <style>\n",
       "    .colab-df-container {\n",
       "      display:flex;\n",
       "      flex-wrap:wrap;\n",
       "      gap: 12px;\n",
       "    }\n",
       "\n",
       "    .colab-df-convert {\n",
       "      background-color: #E8F0FE;\n",
       "      border: none;\n",
       "      border-radius: 50%;\n",
       "      cursor: pointer;\n",
       "      display: none;\n",
       "      fill: #1967D2;\n",
       "      height: 32px;\n",
       "      padding: 0 0 0 0;\n",
       "      width: 32px;\n",
       "    }\n",
       "\n",
       "    .colab-df-convert:hover {\n",
       "      background-color: #E2EBFA;\n",
       "      box-shadow: 0px 1px 2px rgba(60, 64, 67, 0.3), 0px 1px 3px 1px rgba(60, 64, 67, 0.15);\n",
       "      fill: #174EA6;\n",
       "    }\n",
       "\n",
       "    [theme=dark] .colab-df-convert {\n",
       "      background-color: #3B4455;\n",
       "      fill: #D2E3FC;\n",
       "    }\n",
       "\n",
       "    [theme=dark] .colab-df-convert:hover {\n",
       "      background-color: #434B5C;\n",
       "      box-shadow: 0px 1px 3px 1px rgba(0, 0, 0, 0.15);\n",
       "      filter: drop-shadow(0px 1px 2px rgba(0, 0, 0, 0.3));\n",
       "      fill: #FFFFFF;\n",
       "    }\n",
       "  </style>\n",
       "\n",
       "      <script>\n",
       "        const buttonEl =\n",
       "          document.querySelector('#df-c28721e2-81ce-4339-8699-3e70623f0c97 button.colab-df-convert');\n",
       "        buttonEl.style.display =\n",
       "          google.colab.kernel.accessAllowed ? 'block' : 'none';\n",
       "\n",
       "        async function convertToInteractive(key) {\n",
       "          const element = document.querySelector('#df-c28721e2-81ce-4339-8699-3e70623f0c97');\n",
       "          const dataTable =\n",
       "            await google.colab.kernel.invokeFunction('convertToInteractive',\n",
       "                                                     [key], {});\n",
       "          if (!dataTable) return;\n",
       "\n",
       "          const docLinkHtml = 'Like what you see? Visit the ' +\n",
       "            '<a target=\"_blank\" href=https://colab.research.google.com/notebooks/data_table.ipynb>data table notebook</a>'\n",
       "            + ' to learn more about interactive tables.';\n",
       "          element.innerHTML = '';\n",
       "          dataTable['output_type'] = 'display_data';\n",
       "          await google.colab.output.renderOutput(dataTable, element);\n",
       "          const docLink = document.createElement('div');\n",
       "          docLink.innerHTML = docLinkHtml;\n",
       "          element.appendChild(docLink);\n",
       "        }\n",
       "      </script>\n",
       "    </div>\n",
       "  </div>\n",
       "  "
      ],
      "text/plain": [
       "       0     1\n",
       "0  67981  3108\n",
       "1     10   103"
      ]
     },
     "execution_count": 26,
     "metadata": {},
     "output_type": "execute_result"
    }
   ],
   "source": [
    "# Accuracy\n",
    "print('Accuracy: ', accuracy_score(y_test, upsampled_preds))\n",
    "\n",
    "# Recall\n",
    "print('Recall: ', recall_score(y_test, upsampled_preds))\n",
    "\n",
    "# F-1 score\n",
    "print('F-1 score: ', f1_score(y_test, upsampled_preds))\n",
    "\n",
    "# Confusion Matrix\n",
    "pd.DataFrame(confusion_matrix(y_test, upsampled_preds))"
   ]
  },
  {
   "cell_type": "markdown",
   "id": "9f0693a4",
   "metadata": {
    "id": "9f0693a4"
   },
   "source": [
    "- Accuracy score decreased after upsampling, but the model is now predicting both classes more equally\n",
    "- Recall score increased, but F1 is much lower than with either our baseline logistic regression"
   ]
  },
  {
   "cell_type": "markdown",
   "id": "ac84c885",
   "metadata": {
    "id": "ac84c885"
   },
   "source": [
    "#### 2. Undersampling majority class\n",
    "- Undersampling can be defined as removing some observations of the majority class\n",
    "- Undersampling can be a good choice when you have an enormous dataset with millions of rows\n",
    "- **Disadvantage**: \n",
    "    - May lead to removal of valuable information\n",
    "    - Could lead to underfitting and poor generalization to test data"
   ]
  },
  {
   "cell_type": "code",
   "execution_count": 27,
   "id": "d2ab5c28",
   "metadata": {
    "colab": {
     "base_uri": "https://localhost:8080/"
    },
    "id": "d2ab5c28",
    "outputId": "bf96d125-b1b2-4dbb-9ef5-aebb81bf921e"
   },
   "outputs": [
    {
     "data": {
      "text/plain": [
       "0    379\n",
       "1    379\n",
       "Name: Class, dtype: int64"
      ]
     },
     "execution_count": 27,
     "metadata": {},
     "output_type": "execute_result"
    }
   ],
   "source": [
    "# Downsample\n",
    "not_fraud_downsampled = resample(not_fraud,\n",
    "                                replace = False, # Sample without replacement to reduce size\n",
    "                                n_samples = len(fraud), # Resample to match same size as the minority clas\n",
    "                                random_state = 42) # For reproducibility\n",
    "\n",
    "# Combining downsampled majority and minority dataframes\n",
    "downsampled = pd.concat([not_fraud_downsampled, fraud])\n",
    "\n",
    "# Check class count\n",
    "downsampled.Class.value_counts()"
   ]
  },
  {
   "cell_type": "markdown",
   "id": "8b275e5d",
   "metadata": {
    "id": "8b275e5d"
   },
   "source": [
    "##### Logistic regression with balanced dataset (after undersampling majority class data)"
   ]
  },
  {
   "cell_type": "code",
   "execution_count": 28,
   "id": "426905a1",
   "metadata": {
    "id": "426905a1"
   },
   "outputs": [],
   "source": [
    "# Trying logistic regression again with the balanced dataset\n",
    "y_train = downsampled.Class\n",
    "X_train = downsampled.drop('Class', axis = 1)\n",
    "\n",
    "downsampled_lr = LogisticRegression().fit(X_train, y_train)\n",
    "downsampled_preds = downsampled_lr.predict(X_test)"
   ]
  },
  {
   "cell_type": "code",
   "execution_count": 29,
   "id": "68bd0732",
   "metadata": {
    "colab": {
     "base_uri": "https://localhost:8080/",
     "height": 167
    },
    "id": "68bd0732",
    "outputId": "b450942d-e5c2-438c-8345-cdc303413d02"
   },
   "outputs": [
    {
     "name": "stdout",
     "output_type": "stream",
     "text": [
      "Accuracy:  0.9458161287604281\n",
      "Recall:  0.9203539823008849\n",
      "F-1 score:  0.05115592720118053\n"
     ]
    },
    {
     "data": {
      "text/html": [
       "\n",
       "  <div id=\"df-064492fa-fefe-4eb7-80be-ef3400d23d20\">\n",
       "    <div class=\"colab-df-container\">\n",
       "      <div>\n",
       "<style scoped>\n",
       "    .dataframe tbody tr th:only-of-type {\n",
       "        vertical-align: middle;\n",
       "    }\n",
       "\n",
       "    .dataframe tbody tr th {\n",
       "        vertical-align: top;\n",
       "    }\n",
       "\n",
       "    .dataframe thead th {\n",
       "        text-align: right;\n",
       "    }\n",
       "</style>\n",
       "<table border=\"1\" class=\"dataframe\">\n",
       "  <thead>\n",
       "    <tr style=\"text-align: right;\">\n",
       "      <th></th>\n",
       "      <th>0</th>\n",
       "      <th>1</th>\n",
       "    </tr>\n",
       "  </thead>\n",
       "  <tbody>\n",
       "    <tr>\n",
       "      <th>0</th>\n",
       "      <td>67240</td>\n",
       "      <td>3849</td>\n",
       "    </tr>\n",
       "    <tr>\n",
       "      <th>1</th>\n",
       "      <td>9</td>\n",
       "      <td>104</td>\n",
       "    </tr>\n",
       "  </tbody>\n",
       "</table>\n",
       "</div>\n",
       "      <button class=\"colab-df-convert\" onclick=\"convertToInteractive('df-064492fa-fefe-4eb7-80be-ef3400d23d20')\"\n",
       "              title=\"Convert this dataframe to an interactive table.\"\n",
       "              style=\"display:none;\">\n",
       "        \n",
       "  <svg xmlns=\"http://www.w3.org/2000/svg\" height=\"24px\"viewBox=\"0 0 24 24\"\n",
       "       width=\"24px\">\n",
       "    <path d=\"M0 0h24v24H0V0z\" fill=\"none\"/>\n",
       "    <path d=\"M18.56 5.44l.94 2.06.94-2.06 2.06-.94-2.06-.94-.94-2.06-.94 2.06-2.06.94zm-11 1L8.5 8.5l.94-2.06 2.06-.94-2.06-.94L8.5 2.5l-.94 2.06-2.06.94zm10 10l.94 2.06.94-2.06 2.06-.94-2.06-.94-.94-2.06-.94 2.06-2.06.94z\"/><path d=\"M17.41 7.96l-1.37-1.37c-.4-.4-.92-.59-1.43-.59-.52 0-1.04.2-1.43.59L10.3 9.45l-7.72 7.72c-.78.78-.78 2.05 0 2.83L4 21.41c.39.39.9.59 1.41.59.51 0 1.02-.2 1.41-.59l7.78-7.78 2.81-2.81c.8-.78.8-2.07 0-2.86zM5.41 20L4 18.59l7.72-7.72 1.47 1.35L5.41 20z\"/>\n",
       "  </svg>\n",
       "      </button>\n",
       "      \n",
       "  <style>\n",
       "    .colab-df-container {\n",
       "      display:flex;\n",
       "      flex-wrap:wrap;\n",
       "      gap: 12px;\n",
       "    }\n",
       "\n",
       "    .colab-df-convert {\n",
       "      background-color: #E8F0FE;\n",
       "      border: none;\n",
       "      border-radius: 50%;\n",
       "      cursor: pointer;\n",
       "      display: none;\n",
       "      fill: #1967D2;\n",
       "      height: 32px;\n",
       "      padding: 0 0 0 0;\n",
       "      width: 32px;\n",
       "    }\n",
       "\n",
       "    .colab-df-convert:hover {\n",
       "      background-color: #E2EBFA;\n",
       "      box-shadow: 0px 1px 2px rgba(60, 64, 67, 0.3), 0px 1px 3px 1px rgba(60, 64, 67, 0.15);\n",
       "      fill: #174EA6;\n",
       "    }\n",
       "\n",
       "    [theme=dark] .colab-df-convert {\n",
       "      background-color: #3B4455;\n",
       "      fill: #D2E3FC;\n",
       "    }\n",
       "\n",
       "    [theme=dark] .colab-df-convert:hover {\n",
       "      background-color: #434B5C;\n",
       "      box-shadow: 0px 1px 3px 1px rgba(0, 0, 0, 0.15);\n",
       "      filter: drop-shadow(0px 1px 2px rgba(0, 0, 0, 0.3));\n",
       "      fill: #FFFFFF;\n",
       "    }\n",
       "  </style>\n",
       "\n",
       "      <script>\n",
       "        const buttonEl =\n",
       "          document.querySelector('#df-064492fa-fefe-4eb7-80be-ef3400d23d20 button.colab-df-convert');\n",
       "        buttonEl.style.display =\n",
       "          google.colab.kernel.accessAllowed ? 'block' : 'none';\n",
       "\n",
       "        async function convertToInteractive(key) {\n",
       "          const element = document.querySelector('#df-064492fa-fefe-4eb7-80be-ef3400d23d20');\n",
       "          const dataTable =\n",
       "            await google.colab.kernel.invokeFunction('convertToInteractive',\n",
       "                                                     [key], {});\n",
       "          if (!dataTable) return;\n",
       "\n",
       "          const docLinkHtml = 'Like what you see? Visit the ' +\n",
       "            '<a target=\"_blank\" href=https://colab.research.google.com/notebooks/data_table.ipynb>data table notebook</a>'\n",
       "            + ' to learn more about interactive tables.';\n",
       "          element.innerHTML = '';\n",
       "          dataTable['output_type'] = 'display_data';\n",
       "          await google.colab.output.renderOutput(dataTable, element);\n",
       "          const docLink = document.createElement('div');\n",
       "          docLink.innerHTML = docLinkHtml;\n",
       "          element.appendChild(docLink);\n",
       "        }\n",
       "      </script>\n",
       "    </div>\n",
       "  </div>\n",
       "  "
      ],
      "text/plain": [
       "       0     1\n",
       "0  67240  3849\n",
       "1      9   104"
      ]
     },
     "execution_count": 29,
     "metadata": {},
     "output_type": "execute_result"
    }
   ],
   "source": [
    "# Accuracy\n",
    "print('Accuracy: ', accuracy_score(y_test, downsampled_preds))\n",
    "\n",
    "# Recall\n",
    "print('Recall: ', recall_score(y_test, downsampled_preds))\n",
    "\n",
    "# F-1 score\n",
    "print('F-1 score: ', f1_score(y_test, downsampled_preds))\n",
    "\n",
    "# Confusion Matrix\n",
    "pd.DataFrame(confusion_matrix(y_test, downsampled_preds))"
   ]
  },
  {
   "cell_type": "markdown",
   "id": "df797b40",
   "metadata": {
    "id": "df797b40"
   },
   "source": [
    "Undersampling *underperformed* oversampling in this case. Let’s try one more method for handling imbalanced data."
   ]
  },
  {
   "cell_type": "markdown",
   "id": "69229880",
   "metadata": {
    "id": "69229880"
   },
   "source": [
    "#### 3. Generate synthetic samples\n",
    "- Similar to oversampling\n",
    "- Creates synthetic samples\n",
    "- **[SMOTE](https://towardsdatascience.com/how-to-effortlessly-handle-class-imbalance-with-python-and-smote-9b715ca8e5a7): Synthetic Minority Oversamoling Technique**\n",
    "- SMOTE uses a nearest neighbours algorithm to generate new and synthetic data, which is used for training the model\n",
    "- **NOTE:** It’s important to generate the new samples only in the training set to ensure our model generalizes well to unseen data"
   ]
  },
  {
   "cell_type": "code",
   "execution_count": 32,
   "id": "486b634f",
   "metadata": {
    "id": "486b634f"
   },
   "outputs": [],
   "source": [
    "from imblearn.over_sampling import SMOTE\n",
    "\n",
    "# Separating input and target\n",
    "y = credit_card_df.Class\n",
    "X = credit_card_df.drop('Class', axis = 1) # Drop target variable\n",
    "\n",
    "# Split\n",
    "X_train, X_test, y_train, y_test = train_test_split(X, y, test_size = 0.25, random_state = 42)\n",
    "\n",
    "# SMOTE\n",
    "sm = SMOTE(random_state = 27)\n",
    "X_train, y_train = sm.fit_resample(X_train, y_train)"
   ]
  },
  {
   "cell_type": "markdown",
   "id": "3dGxqm01zzWZ",
   "metadata": {
    "id": "3dGxqm01zzWZ"
   },
   "source": [
    "##### Logistic regression after synthetic data generation with SMOTE"
   ]
  },
  {
   "cell_type": "code",
   "execution_count": 34,
   "id": "796b6805",
   "metadata": {
    "colab": {
     "base_uri": "https://localhost:8080/"
    },
    "id": "796b6805",
    "outputId": "1f4132bd-f7e7-4f98-ed4f-183239ac9d90"
   },
   "outputs": [
    {
     "name": "stderr",
     "output_type": "stream",
     "text": [
      "/usr/local/lib/python3.7/dist-packages/sklearn/linear_model/_logistic.py:818: ConvergenceWarning: lbfgs failed to converge (status=1):\n",
      "STOP: TOTAL NO. of ITERATIONS REACHED LIMIT.\n",
      "\n",
      "Increase the number of iterations (max_iter) or scale the data as shown in:\n",
      "    https://scikit-learn.org/stable/modules/preprocessing.html\n",
      "Please also refer to the documentation for alternative solver options:\n",
      "    https://scikit-learn.org/stable/modules/linear_model.html#logistic-regression\n",
      "  extra_warning_msg=_LOGISTIC_SOLVER_CONVERGENCE_MSG,\n"
     ]
    }
   ],
   "source": [
    "# Trying logistic regression again with the balanced dataset after SMOTE\n",
    "smote_lr = LogisticRegression().fit(X_train, y_train)\n",
    "smote_preds = smote_lr.predict(X_test)"
   ]
  },
  {
   "cell_type": "code",
   "execution_count": 35,
   "id": "pT_QBJiLzvzq",
   "metadata": {
    "colab": {
     "base_uri": "https://localhost:8080/",
     "height": 167
    },
    "id": "pT_QBJiLzvzq",
    "outputId": "b2ef0d74-22a1-4fed-9df4-c27af237c446"
   },
   "outputs": [
    {
     "name": "stdout",
     "output_type": "stream",
     "text": [
      "Accuracy:  0.9831605853768153\n",
      "Recall:  0.9026548672566371\n",
      "F-1 score:  0.14540270848182466\n"
     ]
    },
    {
     "data": {
      "text/html": [
       "\n",
       "  <div id=\"df-73bc85c6-06a0-46df-acee-da6163b0947c\">\n",
       "    <div class=\"colab-df-container\">\n",
       "      <div>\n",
       "<style scoped>\n",
       "    .dataframe tbody tr th:only-of-type {\n",
       "        vertical-align: middle;\n",
       "    }\n",
       "\n",
       "    .dataframe tbody tr th {\n",
       "        vertical-align: top;\n",
       "    }\n",
       "\n",
       "    .dataframe thead th {\n",
       "        text-align: right;\n",
       "    }\n",
       "</style>\n",
       "<table border=\"1\" class=\"dataframe\">\n",
       "  <thead>\n",
       "    <tr style=\"text-align: right;\">\n",
       "      <th></th>\n",
       "      <th>0</th>\n",
       "      <th>1</th>\n",
       "    </tr>\n",
       "  </thead>\n",
       "  <tbody>\n",
       "    <tr>\n",
       "      <th>0</th>\n",
       "      <td>69901</td>\n",
       "      <td>1188</td>\n",
       "    </tr>\n",
       "    <tr>\n",
       "      <th>1</th>\n",
       "      <td>11</td>\n",
       "      <td>102</td>\n",
       "    </tr>\n",
       "  </tbody>\n",
       "</table>\n",
       "</div>\n",
       "      <button class=\"colab-df-convert\" onclick=\"convertToInteractive('df-73bc85c6-06a0-46df-acee-da6163b0947c')\"\n",
       "              title=\"Convert this dataframe to an interactive table.\"\n",
       "              style=\"display:none;\">\n",
       "        \n",
       "  <svg xmlns=\"http://www.w3.org/2000/svg\" height=\"24px\"viewBox=\"0 0 24 24\"\n",
       "       width=\"24px\">\n",
       "    <path d=\"M0 0h24v24H0V0z\" fill=\"none\"/>\n",
       "    <path d=\"M18.56 5.44l.94 2.06.94-2.06 2.06-.94-2.06-.94-.94-2.06-.94 2.06-2.06.94zm-11 1L8.5 8.5l.94-2.06 2.06-.94-2.06-.94L8.5 2.5l-.94 2.06-2.06.94zm10 10l.94 2.06.94-2.06 2.06-.94-2.06-.94-.94-2.06-.94 2.06-2.06.94z\"/><path d=\"M17.41 7.96l-1.37-1.37c-.4-.4-.92-.59-1.43-.59-.52 0-1.04.2-1.43.59L10.3 9.45l-7.72 7.72c-.78.78-.78 2.05 0 2.83L4 21.41c.39.39.9.59 1.41.59.51 0 1.02-.2 1.41-.59l7.78-7.78 2.81-2.81c.8-.78.8-2.07 0-2.86zM5.41 20L4 18.59l7.72-7.72 1.47 1.35L5.41 20z\"/>\n",
       "  </svg>\n",
       "      </button>\n",
       "      \n",
       "  <style>\n",
       "    .colab-df-container {\n",
       "      display:flex;\n",
       "      flex-wrap:wrap;\n",
       "      gap: 12px;\n",
       "    }\n",
       "\n",
       "    .colab-df-convert {\n",
       "      background-color: #E8F0FE;\n",
       "      border: none;\n",
       "      border-radius: 50%;\n",
       "      cursor: pointer;\n",
       "      display: none;\n",
       "      fill: #1967D2;\n",
       "      height: 32px;\n",
       "      padding: 0 0 0 0;\n",
       "      width: 32px;\n",
       "    }\n",
       "\n",
       "    .colab-df-convert:hover {\n",
       "      background-color: #E2EBFA;\n",
       "      box-shadow: 0px 1px 2px rgba(60, 64, 67, 0.3), 0px 1px 3px 1px rgba(60, 64, 67, 0.15);\n",
       "      fill: #174EA6;\n",
       "    }\n",
       "\n",
       "    [theme=dark] .colab-df-convert {\n",
       "      background-color: #3B4455;\n",
       "      fill: #D2E3FC;\n",
       "    }\n",
       "\n",
       "    [theme=dark] .colab-df-convert:hover {\n",
       "      background-color: #434B5C;\n",
       "      box-shadow: 0px 1px 3px 1px rgba(0, 0, 0, 0.15);\n",
       "      filter: drop-shadow(0px 1px 2px rgba(0, 0, 0, 0.3));\n",
       "      fill: #FFFFFF;\n",
       "    }\n",
       "  </style>\n",
       "\n",
       "      <script>\n",
       "        const buttonEl =\n",
       "          document.querySelector('#df-73bc85c6-06a0-46df-acee-da6163b0947c button.colab-df-convert');\n",
       "        buttonEl.style.display =\n",
       "          google.colab.kernel.accessAllowed ? 'block' : 'none';\n",
       "\n",
       "        async function convertToInteractive(key) {\n",
       "          const element = document.querySelector('#df-73bc85c6-06a0-46df-acee-da6163b0947c');\n",
       "          const dataTable =\n",
       "            await google.colab.kernel.invokeFunction('convertToInteractive',\n",
       "                                                     [key], {});\n",
       "          if (!dataTable) return;\n",
       "\n",
       "          const docLinkHtml = 'Like what you see? Visit the ' +\n",
       "            '<a target=\"_blank\" href=https://colab.research.google.com/notebooks/data_table.ipynb>data table notebook</a>'\n",
       "            + ' to learn more about interactive tables.';\n",
       "          element.innerHTML = '';\n",
       "          dataTable['output_type'] = 'display_data';\n",
       "          await google.colab.output.renderOutput(dataTable, element);\n",
       "          const docLink = document.createElement('div');\n",
       "          docLink.innerHTML = docLinkHtml;\n",
       "          element.appendChild(docLink);\n",
       "        }\n",
       "      </script>\n",
       "    </div>\n",
       "  </div>\n",
       "  "
      ],
      "text/plain": [
       "       0     1\n",
       "0  69901  1188\n",
       "1     11   102"
      ]
     },
     "execution_count": 35,
     "metadata": {},
     "output_type": "execute_result"
    }
   ],
   "source": [
    "# Accuracy\n",
    "print('Accuracy: ', accuracy_score(y_test, smote_preds))\n",
    "\n",
    "# Recall\n",
    "print('Recall: ', recall_score(y_test, smote_preds))\n",
    "\n",
    "# F-1 score\n",
    "print('F-1 score: ', f1_score(y_test, smote_preds))\n",
    "\n",
    "# Confusion Matrix\n",
    "pd.DataFrame(confusion_matrix(y_test, smote_preds))"
   ]
  },
  {
   "cell_type": "markdown",
   "id": "cRz7Ykx10OwN",
   "metadata": {
    "id": "cRz7Ykx10OwN"
   },
   "source": [
    "The F1-score is increased and recall is similar to the upsampled model above and for our data here outperforms undersampling."
   ]
  },
  {
   "cell_type": "markdown",
   "id": "65a1c714",
   "metadata": {
    "id": "CwDhkHcW0XBJ"
   },
   "source": [
    "#### Conclusion\n",
    "\n",
    "It appears for this particular dataset **SMOTE** and **oversampling** are among the best of the options we have tried here.\n",
    "\n",
    "These are just some of the many possible methods to try when dealing with imbalanced datasets. \n",
    "- Oversample minority class\n",
    "- Undersample majority class\n",
    "- Generate synthetic samples\n",
    "\n",
    "Also try using different evaluation metrics for better results. Some others methods to consider are collecting more data or choosing different resampling ratios. "
   ]
  },
  {
   "cell_type": "code",
   "execution_count": null,
   "id": "8ae11d40",
   "metadata": {},
   "outputs": [],
   "source": []
  }
 ],
 "metadata": {
  "colab": {
   "name": "Credit Card Fraud Detection - Imbalanced class problem.ipynb",
   "provenance": []
  },
  "kernelspec": {
   "display_name": "Python 3 (ipykernel)",
   "language": "python",
   "name": "python3"
  },
  "language_info": {
   "codemirror_mode": {
    "name": "ipython",
    "version": 3
   },
   "file_extension": ".py",
   "mimetype": "text/x-python",
   "name": "python",
   "nbconvert_exporter": "python",
   "pygments_lexer": "ipython3",
   "version": "3.8.8"
  }
 },
 "nbformat": 4,
 "nbformat_minor": 5
}
